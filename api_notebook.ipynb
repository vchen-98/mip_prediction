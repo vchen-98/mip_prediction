{
 "cells": [
  {
   "cell_type": "code",
   "execution_count": 1,
   "metadata": {},
   "outputs": [],
   "source": [
    "# This notebook will be dedicated to accessing real time basketball data using an API\n",
    "\n",
    "# Website api I'll be using: \n",
    "# https://www.balldontlie.io/#getting-started"
   ]
  },
  {
   "cell_type": "code",
   "execution_count": 2,
   "metadata": {},
   "outputs": [],
   "source": [
    "import pandas as pd\n",
    "import numpy as np"
   ]
  },
  {
   "cell_type": "code",
   "execution_count": 3,
   "metadata": {},
   "outputs": [
    {
     "name": "stdout",
     "output_type": "stream",
     "text": [
      "Collecting package metadata (current_repodata.json): ...working... done\n",
      "Solving environment: ...working... done\n",
      "\n",
      "## Package Plan ##\n",
      "\n",
      "  environment location: C:\\Users\\nehcr\\anaconda3\\envs\\learn-env\n",
      "\n",
      "  added / updated specs:\n",
      "    - requests\n",
      "\n",
      "\n",
      "The following packages will be downloaded:\n",
      "\n",
      "    package                    |            build\n",
      "    ---------------------------|-----------------\n",
      "    ca-certificates-2021.9.30  |       haa95532_1         116 KB\n",
      "    certifi-2021.10.8          |   py38haa95532_0         152 KB\n",
      "    charset-normalizer-2.0.4   |     pyhd3eb1b0_0          35 KB\n",
      "    openssl-1.1.1l             |       h2bbff1b_0         4.8 MB\n",
      "    requests-2.26.0            |     pyhd3eb1b0_0          59 KB\n",
      "    ------------------------------------------------------------\n",
      "                                           Total:         5.2 MB\n",
      "\n",
      "The following NEW packages will be INSTALLED:\n",
      "\n",
      "  charset-normalizer pkgs/main/noarch::charset-normalizer-2.0.4-pyhd3eb1b0_0\n",
      "\n",
      "The following packages will be UPDATED:\n",
      "\n",
      "  ca-certificates                      2021.4.13-haa95532_1 --> 2021.9.30-haa95532_1\n",
      "  certifi                          2020.12.5-py38haa95532_0 --> 2021.10.8-py38haa95532_0\n",
      "  openssl                                 1.1.1k-h2bbff1b_0 --> 1.1.1l-h2bbff1b_0\n",
      "  requests           conda-forge::requests-2.24.0-pyh9f0ad~ --> pkgs/main::requests-2.26.0-pyhd3eb1b0_0\n",
      "\n",
      "Note: you may need to restart the kernel to use updated packages.\n",
      "\n",
      "\n",
      "\n",
      "Downloading and Extracting Packages\n",
      "\n",
      "ca-certificates-2021 | 116 KB    |            |   0% \n",
      "ca-certificates-2021 | 116 KB    | #3         |  14% \n",
      "ca-certificates-2021 | 116 KB    | ########## | 100% \n",
      "ca-certificates-2021 | 116 KB    | ########## | 100% \n"
     ]
    },
    {
     "name": "stderr",
     "output_type": "stream",
     "text": [
      "\n",
      "\n",
      "==> WARNING: A newer version of conda exists. <==\n",
      "  current version: 4.10.1\n",
      "  latest version: 4.10.3\n",
      "\n",
      "Please update conda by running\n",
      "\n",
      "    $ conda update -n base -c defaults conda\n",
      "\n",
      "\n"
     ]
    },
    {
     "name": "stdout",
     "output_type": "stream",
     "text": [
      "\n",
      "openssl-1.1.1l       | 4.8 MB    |            |   0% \n",
      "openssl-1.1.1l       | 4.8 MB    | 5          |   6% \n",
      "openssl-1.1.1l       | 4.8 MB    | #7         |  17% \n",
      "openssl-1.1.1l       | 4.8 MB    | ##6        |  26% \n",
      "openssl-1.1.1l       | 4.8 MB    | ###6       |  36% \n",
      "openssl-1.1.1l       | 4.8 MB    | ####4      |  45% \n",
      "openssl-1.1.1l       | 4.8 MB    | #####2     |  53% \n",
      "openssl-1.1.1l       | 4.8 MB    | ######2    |  63% \n",
      "openssl-1.1.1l       | 4.8 MB    | #######5   |  76% \n",
      "openssl-1.1.1l       | 4.8 MB    | ########4  |  85% \n",
      "openssl-1.1.1l       | 4.8 MB    | #########3 |  94% \n",
      "openssl-1.1.1l       | 4.8 MB    | ########## | 100% \n",
      "\n",
      "charset-normalizer-2 | 35 KB     |            |   0% \n",
      "charset-normalizer-2 | 35 KB     | ########## | 100% \n",
      "charset-normalizer-2 | 35 KB     | ########## | 100% \n",
      "\n",
      "requests-2.26.0      | 59 KB     |            |   0% \n",
      "requests-2.26.0      | 59 KB     | ########## | 100% \n",
      "requests-2.26.0      | 59 KB     | ########## | 100% \n",
      "\n",
      "certifi-2021.10.8    | 152 KB    |            |   0% \n",
      "certifi-2021.10.8    | 152 KB    | ########## | 100% \n",
      "certifi-2021.10.8    | 152 KB    | ########## | 100% \n",
      "Preparing transaction: ...working... done\n",
      "Verifying transaction: ...working... done\n",
      "Executing transaction: ...working... done\n"
     ]
    }
   ],
   "source": [
    "conda install requests"
   ]
  },
  {
   "cell_type": "code",
   "execution_count": 4,
   "metadata": {},
   "outputs": [],
   "source": [
    "import requests"
   ]
  },
  {
   "cell_type": "code",
   "execution_count": 11,
   "metadata": {},
   "outputs": [],
   "source": [
    "players = requests.get(\"https://www.balldontlie.io/api/v1/players\")"
   ]
  },
  {
   "cell_type": "code",
   "execution_count": 12,
   "metadata": {},
   "outputs": [
    {
     "data": {
      "text/plain": [
       "<Response [200]>"
      ]
     },
     "execution_count": 12,
     "metadata": {},
     "output_type": "execute_result"
    }
   ],
   "source": [
    "players"
   ]
  },
  {
   "cell_type": "code",
   "execution_count": 13,
   "metadata": {},
   "outputs": [
    {
     "name": "stdout",
     "output_type": "stream",
     "text": [
      "{'data': [{'id': 14, 'first_name': 'Ike', 'height_feet': None, 'height_inches': None, 'last_name': 'Anigbogu', 'position': 'C', 'team': {'id': 12, 'abbreviation': 'IND', 'city': 'Indiana', 'conference': 'East', 'division': 'Central', 'full_name': 'Indiana Pacers', 'name': 'Pacers'}, 'weight_pounds': None}, {'id': 25, 'first_name': 'Ron', 'height_feet': None, 'height_inches': None, 'last_name': 'Baker', 'position': 'G', 'team': {'id': 20, 'abbreviation': 'NYK', 'city': 'New York', 'conference': 'East', 'division': 'Atlantic', 'full_name': 'New York Knicks', 'name': 'Knicks'}, 'weight_pounds': None}, {'id': 47, 'first_name': 'Jabari', 'height_feet': None, 'height_inches': None, 'last_name': 'Bird', 'position': 'G', 'team': {'id': 2, 'abbreviation': 'BOS', 'city': 'Boston', 'conference': 'East', 'division': 'Atlantic', 'full_name': 'Boston Celtics', 'name': 'Celtics'}, 'weight_pounds': None}, {'id': 67, 'first_name': 'MarShon', 'height_feet': None, 'height_inches': None, 'last_name': 'Brooks', 'position': 'G', 'team': {'id': 15, 'abbreviation': 'MEM', 'city': 'Memphis', 'conference': 'West', 'division': 'Southwest', 'full_name': 'Memphis Grizzlies', 'name': 'Grizzlies'}, 'weight_pounds': None}, {'id': 71, 'first_name': 'Lorenzo', 'height_feet': None, 'height_inches': None, 'last_name': 'Brown', 'position': 'G', 'team': {'id': 28, 'abbreviation': 'TOR', 'city': 'Toronto', 'conference': 'East', 'division': 'Atlantic', 'full_name': 'Toronto Raptors', 'name': 'Raptors'}, 'weight_pounds': None}, {'id': 90, 'first_name': 'Omri', 'height_feet': None, 'height_inches': None, 'last_name': 'Casspi', 'position': 'F', 'team': {'id': 15, 'abbreviation': 'MEM', 'city': 'Memphis', 'conference': 'West', 'division': 'Southwest', 'full_name': 'Memphis Grizzlies', 'name': 'Grizzlies'}, 'weight_pounds': None}, {'id': 1, 'first_name': 'Alex', 'height_feet': 6, 'height_inches': 6, 'last_name': 'Abrines', 'position': 'G', 'team': {'id': 21, 'abbreviation': 'OKC', 'city': 'Oklahoma City', 'conference': 'West', 'division': 'Northwest', 'full_name': 'Oklahoma City Thunder', 'name': 'Thunder'}, 'weight_pounds': 200}, {'id': 119, 'first_name': 'Tyler', 'height_feet': None, 'height_inches': None, 'last_name': 'Davis', 'position': 'C', 'team': {'id': 21, 'abbreviation': 'OKC', 'city': 'Oklahoma City', 'conference': 'West', 'division': 'Northwest', 'full_name': 'Oklahoma City Thunder', 'name': 'Thunder'}, 'weight_pounds': None}, {'id': 149, 'first_name': 'Keenan', 'height_feet': None, 'height_inches': None, 'last_name': 'Evans', 'position': 'G', 'team': {'id': 9, 'abbreviation': 'DET', 'city': 'Detroit', 'conference': 'East', 'division': 'Central', 'full_name': 'Detroit Pistons', 'name': 'Pistons'}, 'weight_pounds': None}, {'id': 179, 'first_name': 'Marcin', 'height_feet': None, 'height_inches': None, 'last_name': 'Gortat', 'position': 'C', 'team': {'id': 13, 'abbreviation': 'LAC', 'city': 'LA', 'conference': 'West', 'division': 'Pacific', 'full_name': 'LA Clippers', 'name': 'Clippers'}, 'weight_pounds': None}, {'id': 1593, 'first_name': 'Andrew', 'height_feet': None, 'height_inches': None, 'last_name': 'Bogut', 'position': 'F', 'team': {'id': 10, 'abbreviation': 'GSW', 'city': 'Golden State', 'conference': 'West', 'division': 'Pacific', 'full_name': 'Golden State Warriors', 'name': 'Warriors'}, 'weight_pounds': None}, {'id': 241, 'first_name': 'Amir', 'height_feet': 6, 'height_inches': 9, 'last_name': 'Johnson', 'position': 'C-F', 'team': {'id': 23, 'abbreviation': 'PHI', 'city': 'Philadelphia', 'conference': 'East', 'division': 'Atlantic', 'full_name': 'Philadelphia 76ers', 'name': '76ers'}, 'weight_pounds': 240}, {'id': 392, 'first_name': 'Malachi', 'height_feet': None, 'height_inches': None, 'last_name': 'Richardson', 'position': 'G', 'team': {'id': 29, 'abbreviation': 'UTA', 'city': 'Utah', 'conference': 'West', 'division': 'Northwest', 'full_name': 'Utah Jazz', 'name': 'Jazz'}, 'weight_pounds': None}, {'id': 281, 'first_name': 'Zach', 'height_feet': None, 'height_inches': None, 'last_name': 'Lofton', 'position': 'G', 'team': {'id': 9, 'abbreviation': 'DET', 'city': 'Detroit', 'conference': 'East', 'division': 'Central', 'full_name': 'Detroit Pistons', 'name': 'Pistons'}, 'weight_pounds': None}, {'id': 263, 'first_name': 'Kosta', 'height_feet': 7, 'height_inches': 0, 'last_name': 'Koufos', 'position': 'C', 'team': {'id': 26, 'abbreviation': 'SAC', 'city': 'Sacramento', 'conference': 'West', 'division': 'Pacific', 'full_name': 'Sacramento Kings', 'name': 'Kings'}, 'weight_pounds': 245}, {'id': 382, 'first_name': 'Billy', 'height_feet': None, 'height_inches': None, 'last_name': 'Preston', 'position': 'F', 'team': {'id': 6, 'abbreviation': 'CLE', 'city': 'Cleveland', 'conference': 'East', 'division': 'Central', 'full_name': 'Cleveland Cavaliers', 'name': 'Cavaliers'}, 'weight_pounds': None}, {'id': 384, 'first_name': 'Zhou', 'height_feet': None, 'height_inches': None, 'last_name': 'Qi', 'position': 'F-C', 'team': {'id': 11, 'abbreviation': 'HOU', 'city': 'Houston', 'conference': 'West', 'division': 'Southwest', 'full_name': 'Houston Rockets', 'name': 'Rockets'}, 'weight_pounds': None}, {'id': 388, 'first_name': 'Zach', 'height_feet': None, 'height_inches': None, 'last_name': 'Randolph', 'position': 'F', 'team': {'id': 26, 'abbreviation': 'SAC', 'city': 'Sacramento', 'conference': 'West', 'division': 'Pacific', 'full_name': 'Sacramento Kings', 'name': 'Kings'}, 'weight_pounds': None}, {'id': 430, 'first_name': 'DJ', 'height_feet': None, 'height_inches': None, 'last_name': 'Stephens', 'position': 'G-F', 'team': {'id': 15, 'abbreviation': 'MEM', 'city': 'Memphis', 'conference': 'West', 'division': 'Southwest', 'full_name': 'Memphis Grizzlies', 'name': 'Grizzlies'}, 'weight_pounds': None}, {'id': 437, 'first_name': 'Milos', 'height_feet': None, 'height_inches': None, 'last_name': 'Teodosic', 'position': 'G', 'team': {'id': 13, 'abbreviation': 'LAC', 'city': 'LA', 'conference': 'West', 'division': 'Pacific', 'full_name': 'LA Clippers', 'name': 'Clippers'}, 'weight_pounds': None}, {'id': 448, 'first_name': 'Gary', 'height_feet': None, 'height_inches': None, 'last_name': 'Trent Jr.', 'position': 'G', 'team': {'id': 25, 'abbreviation': 'POR', 'city': 'Portland', 'conference': 'West', 'division': 'Northwest', 'full_name': 'Portland Trail Blazers', 'name': 'Trail Blazers'}, 'weight_pounds': None}, {'id': 494, 'first_name': 'Michael', 'height_feet': None, 'height_inches': None, 'last_name': 'Smith', 'position': '', 'team': {'id': 2, 'abbreviation': 'BOS', 'city': 'Boston', 'conference': 'East', 'division': 'Atlantic', 'full_name': 'Boston Celtics', 'name': 'Celtics'}, 'weight_pounds': None}, {'id': 495, 'first_name': 'John', 'height_feet': None, 'height_inches': None, 'last_name': 'Morton', 'position': '', 'team': {'id': 6, 'abbreviation': 'CLE', 'city': 'Cleveland', 'conference': 'East', 'division': 'Central', 'full_name': 'Cleveland Cavaliers', 'name': 'Cavaliers'}, 'weight_pounds': None}, {'id': 496, 'first_name': 'Howard', 'height_feet': None, 'height_inches': None, 'last_name': 'Wright', 'position': '', 'team': {'id': 1, 'abbreviation': 'ATL', 'city': 'Atlanta', 'conference': 'East', 'division': 'Southeast', 'full_name': 'Atlanta Hawks', 'name': 'Hawks'}, 'weight_pounds': None}, {'id': 497, 'first_name': 'Michael', 'height_feet': None, 'height_inches': None, 'last_name': 'Ansley', 'position': '', 'team': {'id': 22, 'abbreviation': 'ORL', 'city': 'Orlando', 'conference': 'East', 'division': 'Southeast', 'full_name': 'Orlando Magic', 'name': 'Magic'}, 'weight_pounds': None}], 'meta': {'total_pages': 150, 'current_page': 1, 'next_page': 2, 'per_page': 25, 'total_count': 3739}}\n"
     ]
    }
   ],
   "source": [
    "print(players.json())"
   ]
  },
  {
   "cell_type": "code",
   "execution_count": 15,
   "metadata": {},
   "outputs": [],
   "source": [
    "averages = requests.get('https://www.balldontlie.io/api/v1/season_averages')"
   ]
  },
  {
   "cell_type": "code",
   "execution_count": 16,
   "metadata": {},
   "outputs": [
    {
     "data": {
      "text/plain": [
       "<Response [200]>"
      ]
     },
     "execution_count": 16,
     "metadata": {},
     "output_type": "execute_result"
    }
   ],
   "source": [
    "averages"
   ]
  },
  {
   "cell_type": "code",
   "execution_count": 17,
   "metadata": {},
   "outputs": [
    {
     "name": "stdout",
     "output_type": "stream",
     "text": [
      "{'data': []}\n"
     ]
    }
   ],
   "source": [
    "print(averages.json())"
   ]
  },
  {
   "cell_type": "code",
   "execution_count": null,
   "metadata": {},
   "outputs": [],
   "source": []
  }
 ],
 "metadata": {
  "kernelspec": {
   "display_name": "Python (learn-env)",
   "language": "python",
   "name": "learn-env"
  },
  "language_info": {
   "codemirror_mode": {
    "name": "ipython",
    "version": 3
   },
   "file_extension": ".py",
   "mimetype": "text/x-python",
   "name": "python",
   "nbconvert_exporter": "python",
   "pygments_lexer": "ipython3",
   "version": "3.8.5"
  }
 },
 "nbformat": 4,
 "nbformat_minor": 4
}
